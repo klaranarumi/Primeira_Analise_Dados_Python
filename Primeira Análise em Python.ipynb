{
 "cells": [
  {
   "cell_type": "markdown",
   "metadata": {},
   "source": [
    "# Primeira Análise em Python\n",
    "## Alunos: \n",
    "Brenner Santos e Klara Maia\n",
    "## Matéria: \n",
    "Introdução à Ciência de Dados\n",
    "## Data\n",
    "Novembro de 2020"
   ]
  },
  {
   "cell_type": "markdown",
   "metadata": {},
   "source": [
    "# Introdução\n",
    "  O tema desse projeto é \"Uso da Cota para Exercício da Atividade Parlamentar por Deputados Federais\", uma assunto muito importante e que em muitos casos apenas é tratado na época de votação eleitoral para esse cargo. Além de sua relevância, o site: \"serenata.ai\" informa que apenas com essa cota, os reembolsos dos 513 deputados federais em um ano significa o custo de 128 milhões,visto isso, é interessante saber se os dados dos deputados federais representa um padrão sem coincidência em relação essa cota. Para que seja possível chegar a um conclusão a respeito disso, o projeto tem como objetivo responder as seguintes perguntas: \n",
    "  \n",
    " 1. Os mesmos deputados que mais utilizam das cotas são os mais presentes nos eventos? \n",
    " 2. O gasto da cota \"DIVULGAÇÃO DA ATIVIDADE PARLAMENTAR\" possui relação com o ano de eleição?\n",
    " 3. A quantidade de cotas é proporcional ao valor líquido de cada candidato, ou seja, quanto maior a quantidade de cotas maior o valor líquido?\n",
    " 4. Os deputados de um mandado(2011-2014) tiveram o mesmo comportamento que os deputados do outro mandato(2015-2018)?\n",
    " 5. Os candidatos releitos é maior que 513? Ou seja, o comportamento tende a mudar?\n",
    " \n",
    "Observação as perguntas foram modificadas, por conta dos bancos de dados apresentarem algunas problemas, além disso, outra ideia a ser usada era fazer uma regressão dos valores gastos por candidato e a presença de cada um deles nos eventos, entretanto, quanto foi feito isso os tamanhos dos dados apresentarem tamanhos diferentes e foi desconsiderado essa ideia.\n",
    " "
   ]
  },
  {
   "cell_type": "markdown",
   "metadata": {},
   "source": [
    "# Metodologia\n",
    "## Base de dados\n",
    "Os dados foram coletados no [Portal Dados Abertos da Câmara dos Deputados](https://dadosabertos.camara.leg.br/swagger/api.html#staticfile), onde contem dados consisos sobre as despesas cobertas pela Cota para Exercício da Atividade Parlamentar de cada deputado, os eventos ocorridos anualmente e quais deputados esteveram presentes nos eventos. Serão utilizados os dados de 2011 a 2018 para a análise, o que representa dois mandatos.\n",
    "\n",
    "### Limpeza e Transformação dos dados\n",
    "Como já alertado pelo próprio Portal, esses arquivos não seguem os mesmos padrões de nomenclatura, identificadores e organização. Por compatibilidade, eles mantiveram as características de arquivos anteriormente já publicados pela Câmara. Ademais, tem dados vazios em algumas colunas e é necessário fazer alterações para juntar os dados.\n",
    "### Métodos\n",
    "Afim de facilitar a análise e retirar diversas informações foram feitos data frames de cada mandato e em conjunto, unindo eles quando necessário ou/e separando as variáveis de interesse.\n",
    "Foi realizado nesse trabalho análise exploratória, teste de hipótese, regressão e classificação."
   ]
  },
  {
   "cell_type": "markdown",
   "metadata": {},
   "source": [
    "#### Primeira base de dados\n",
    "Na base de dados \"Despesas cobertas pela Cota para Exercício da Atividade Parlamentar de cada deputado\" foi  adicionado uma coluna com o respectivo ano para que seja possível juntar os data frames. Dessa forma, foi estabelecido 3 novos data frames:\n",
    "1. df = Todas as despesas\n",
    "2. df_1= Despesas do mandato de 2011-2014\n",
    "2. df_2= Despesas do mandato de 2015-2018"
   ]
  },
  {
   "cell_type": "code",
   "execution_count": 1,
   "metadata": {},
   "outputs": [],
   "source": [
    "import pandas as pd\n",
    "df_2011 = pd.read_csv('./Ano-2011.csv', sep=\";\")\n",
    "df_2011['ano'] = 2011\n",
    "df_2012 = pd.read_csv('./Ano-2012.csv', sep=\";\")\n",
    "df_2012['ano'] = 2012\n",
    "df_2013 = pd.read_csv('./Ano-2013.csv', sep=\";\")\n",
    "df_2013['ano'] = 2013\n",
    "df_2014 = pd.read_csv('./Ano-2014.csv', sep=\";\")\n",
    "df_2014['ano'] = 2014\n",
    "df_2015 = pd.read_csv('./Ano-2015.csv', sep=\";\")\n",
    "df_2015['ano'] = 2015\n",
    "df_2016 = pd.read_csv('./Ano-2016.csv', sep=\";\")\n",
    "df_2016['ano'] = 2016\n",
    "df_2017 = pd.read_csv('./Ano-2017.csv', sep=\";\")\n",
    "df_2017['ano'] = 2017\n",
    "df_2018 = pd.read_csv('./Ano-2018.csv', sep=\";\")\n",
    "df_2018['ano'] = 2018"
   ]
  },
  {
   "cell_type": "code",
   "execution_count": 2,
   "metadata": {},
   "outputs": [
    {
     "data": {
      "text/html": [
       "<div>\n",
       "<style scoped>\n",
       "    .dataframe tbody tr th:only-of-type {\n",
       "        vertical-align: middle;\n",
       "    }\n",
       "\n",
       "    .dataframe tbody tr th {\n",
       "        vertical-align: top;\n",
       "    }\n",
       "\n",
       "    .dataframe thead th {\n",
       "        text-align: right;\n",
       "    }\n",
       "</style>\n",
       "<table border=\"1\" class=\"dataframe\">\n",
       "  <thead>\n",
       "    <tr style=\"text-align: right;\">\n",
       "      <th></th>\n",
       "      <th>txNomeParlamentar</th>\n",
       "      <th>cpf</th>\n",
       "      <th>ideCadastro</th>\n",
       "      <th>nuCarteiraParlamentar</th>\n",
       "      <th>nuLegislatura</th>\n",
       "      <th>sgUF</th>\n",
       "      <th>sgPartido</th>\n",
       "      <th>codLegislatura</th>\n",
       "      <th>numSubCota</th>\n",
       "      <th>txtDescricao</th>\n",
       "      <th>...</th>\n",
       "      <th>numParcela</th>\n",
       "      <th>txtPassageiro</th>\n",
       "      <th>txtTrecho</th>\n",
       "      <th>numLote</th>\n",
       "      <th>numRessarcimento</th>\n",
       "      <th>vlrRestituicao</th>\n",
       "      <th>nuDeputadoId</th>\n",
       "      <th>ideDocumento</th>\n",
       "      <th>urlDocumento</th>\n",
       "      <th>ano</th>\n",
       "    </tr>\n",
       "  </thead>\n",
       "  <tbody>\n",
       "    <tr>\n",
       "      <th>0</th>\n",
       "      <td>LIDERANÇA DO PSDB</td>\n",
       "      <td>NaN</td>\n",
       "      <td>NaN</td>\n",
       "      <td>NaN</td>\n",
       "      <td>2011</td>\n",
       "      <td>NaN</td>\n",
       "      <td>NaN</td>\n",
       "      <td>54</td>\n",
       "      <td>1</td>\n",
       "      <td>MANUTENÇÃO DE ESCRITÓRIO DE APOIO À ATIVIDADE ...</td>\n",
       "      <td>...</td>\n",
       "      <td>0</td>\n",
       "      <td>NaN</td>\n",
       "      <td>NaN</td>\n",
       "      <td>588705</td>\n",
       "      <td>NaN</td>\n",
       "      <td>NaN</td>\n",
       "      <td>2442</td>\n",
       "      <td>2246504</td>\n",
       "      <td>NaN</td>\n",
       "      <td>2011</td>\n",
       "    </tr>\n",
       "    <tr>\n",
       "      <th>1</th>\n",
       "      <td>LIDERANÇA DO PSDB</td>\n",
       "      <td>NaN</td>\n",
       "      <td>NaN</td>\n",
       "      <td>NaN</td>\n",
       "      <td>2011</td>\n",
       "      <td>NaN</td>\n",
       "      <td>NaN</td>\n",
       "      <td>54</td>\n",
       "      <td>1</td>\n",
       "      <td>MANUTENÇÃO DE ESCRITÓRIO DE APOIO À ATIVIDADE ...</td>\n",
       "      <td>...</td>\n",
       "      <td>0</td>\n",
       "      <td>NaN</td>\n",
       "      <td>NaN</td>\n",
       "      <td>588705</td>\n",
       "      <td>NaN</td>\n",
       "      <td>NaN</td>\n",
       "      <td>2442</td>\n",
       "      <td>2246505</td>\n",
       "      <td>NaN</td>\n",
       "      <td>2011</td>\n",
       "    </tr>\n",
       "    <tr>\n",
       "      <th>2</th>\n",
       "      <td>LIDERANÇA DO PSDB</td>\n",
       "      <td>NaN</td>\n",
       "      <td>NaN</td>\n",
       "      <td>NaN</td>\n",
       "      <td>2011</td>\n",
       "      <td>NaN</td>\n",
       "      <td>NaN</td>\n",
       "      <td>54</td>\n",
       "      <td>1</td>\n",
       "      <td>MANUTENÇÃO DE ESCRITÓRIO DE APOIO À ATIVIDADE ...</td>\n",
       "      <td>...</td>\n",
       "      <td>0</td>\n",
       "      <td>NaN</td>\n",
       "      <td>NaN</td>\n",
       "      <td>568174</td>\n",
       "      <td>NaN</td>\n",
       "      <td>NaN</td>\n",
       "      <td>2442</td>\n",
       "      <td>2181555</td>\n",
       "      <td>NaN</td>\n",
       "      <td>2011</td>\n",
       "    </tr>\n",
       "    <tr>\n",
       "      <th>3</th>\n",
       "      <td>LIDERANÇA DO PSDB</td>\n",
       "      <td>NaN</td>\n",
       "      <td>NaN</td>\n",
       "      <td>NaN</td>\n",
       "      <td>2011</td>\n",
       "      <td>NaN</td>\n",
       "      <td>NaN</td>\n",
       "      <td>54</td>\n",
       "      <td>1</td>\n",
       "      <td>MANUTENÇÃO DE ESCRITÓRIO DE APOIO À ATIVIDADE ...</td>\n",
       "      <td>...</td>\n",
       "      <td>0</td>\n",
       "      <td>NaN</td>\n",
       "      <td>NaN</td>\n",
       "      <td>574051</td>\n",
       "      <td>NaN</td>\n",
       "      <td>NaN</td>\n",
       "      <td>2442</td>\n",
       "      <td>2193013</td>\n",
       "      <td>NaN</td>\n",
       "      <td>2011</td>\n",
       "    </tr>\n",
       "    <tr>\n",
       "      <th>4</th>\n",
       "      <td>LIDERANÇA DO PSDB</td>\n",
       "      <td>NaN</td>\n",
       "      <td>NaN</td>\n",
       "      <td>NaN</td>\n",
       "      <td>2011</td>\n",
       "      <td>NaN</td>\n",
       "      <td>NaN</td>\n",
       "      <td>54</td>\n",
       "      <td>3</td>\n",
       "      <td>COMBUSTÍVEIS E LUBRIFICANTES.</td>\n",
       "      <td>...</td>\n",
       "      <td>0</td>\n",
       "      <td>NaN</td>\n",
       "      <td>NaN</td>\n",
       "      <td>561555</td>\n",
       "      <td>NaN</td>\n",
       "      <td>NaN</td>\n",
       "      <td>2442</td>\n",
       "      <td>2150852</td>\n",
       "      <td>NaN</td>\n",
       "      <td>2011</td>\n",
       "    </tr>\n",
       "  </tbody>\n",
       "</table>\n",
       "<p>5 rows × 32 columns</p>\n",
       "</div>"
      ],
      "text/plain": [
       "   txNomeParlamentar  cpf  ideCadastro  nuCarteiraParlamentar  nuLegislatura  \\\n",
       "0  LIDERANÇA DO PSDB  NaN          NaN                    NaN           2011   \n",
       "1  LIDERANÇA DO PSDB  NaN          NaN                    NaN           2011   \n",
       "2  LIDERANÇA DO PSDB  NaN          NaN                    NaN           2011   \n",
       "3  LIDERANÇA DO PSDB  NaN          NaN                    NaN           2011   \n",
       "4  LIDERANÇA DO PSDB  NaN          NaN                    NaN           2011   \n",
       "\n",
       "  sgUF sgPartido  codLegislatura  numSubCota  \\\n",
       "0  NaN       NaN              54           1   \n",
       "1  NaN       NaN              54           1   \n",
       "2  NaN       NaN              54           1   \n",
       "3  NaN       NaN              54           1   \n",
       "4  NaN       NaN              54           3   \n",
       "\n",
       "                                        txtDescricao  ...  numParcela  \\\n",
       "0  MANUTENÇÃO DE ESCRITÓRIO DE APOIO À ATIVIDADE ...  ...           0   \n",
       "1  MANUTENÇÃO DE ESCRITÓRIO DE APOIO À ATIVIDADE ...  ...           0   \n",
       "2  MANUTENÇÃO DE ESCRITÓRIO DE APOIO À ATIVIDADE ...  ...           0   \n",
       "3  MANUTENÇÃO DE ESCRITÓRIO DE APOIO À ATIVIDADE ...  ...           0   \n",
       "4                      COMBUSTÍVEIS E LUBRIFICANTES.  ...           0   \n",
       "\n",
       "  txtPassageiro txtTrecho numLote numRessarcimento  vlrRestituicao  \\\n",
       "0           NaN       NaN  588705              NaN             NaN   \n",
       "1           NaN       NaN  588705              NaN             NaN   \n",
       "2           NaN       NaN  568174              NaN             NaN   \n",
       "3           NaN       NaN  574051              NaN             NaN   \n",
       "4           NaN       NaN  561555              NaN             NaN   \n",
       "\n",
       "  nuDeputadoId  ideDocumento  urlDocumento   ano  \n",
       "0         2442       2246504           NaN  2011  \n",
       "1         2442       2246505           NaN  2011  \n",
       "2         2442       2181555           NaN  2011  \n",
       "3         2442       2193013           NaN  2011  \n",
       "4         2442       2150852           NaN  2011  \n",
       "\n",
       "[5 rows x 32 columns]"
      ]
     },
     "execution_count": 2,
     "metadata": {},
     "output_type": "execute_result"
    }
   ],
   "source": [
    "df = pd.concat([df_2011,df_2012,df_2013,df_2014,df_2015,df_2016,df_2017,df_2018])\n",
    "df.head()"
   ]
  },
  {
   "cell_type": "code",
   "execution_count": 3,
   "metadata": {},
   "outputs": [],
   "source": [
    "df_1 = pd.concat([df_2011,df_2012,df_2013,df_2014])\n",
    "df_2 = pd.concat([df_2015,df_2016,df_2017,df_2018])"
   ]
  },
  {
   "cell_type": "markdown",
   "metadata": {},
   "source": [
    "As variáveis de cada data frame são:"
   ]
  },
  {
   "cell_type": "code",
   "execution_count": 4,
   "metadata": {},
   "outputs": [
    {
     "name": "stdout",
     "output_type": "stream",
     "text": [
      "<class 'pandas.core.frame.DataFrame'>\n",
      "Int64Index: 2937734 entries, 0 to 292606\n",
      "Data columns (total 32 columns):\n",
      " #   Column                     Dtype  \n",
      "---  ------                     -----  \n",
      " 0   txNomeParlamentar          object \n",
      " 1   cpf                        float64\n",
      " 2   ideCadastro                float64\n",
      " 3   nuCarteiraParlamentar      float64\n",
      " 4   nuLegislatura              int64  \n",
      " 5   sgUF                       object \n",
      " 6   sgPartido                  object \n",
      " 7   codLegislatura             int64  \n",
      " 8   numSubCota                 int64  \n",
      " 9   txtDescricao               object \n",
      " 10  numEspecificacaoSubCota    int64  \n",
      " 11  txtDescricaoEspecificacao  object \n",
      " 12  txtFornecedor              object \n",
      " 13  txtCNPJCPF                 object \n",
      " 14  txtNumero                  object \n",
      " 15  indTipoDocumento           int64  \n",
      " 16  datEmissao                 object \n",
      " 17  vlrDocumento               float64\n",
      " 18  vlrGlosa                   float64\n",
      " 19  vlrLiquido                 float64\n",
      " 20  numMes                     int64  \n",
      " 21  numAno                     int64  \n",
      " 22  numParcela                 int64  \n",
      " 23  txtPassageiro              object \n",
      " 24  txtTrecho                  object \n",
      " 25  numLote                    int64  \n",
      " 26  numRessarcimento           float64\n",
      " 27  vlrRestituicao             float64\n",
      " 28  nuDeputadoId               int64  \n",
      " 29  ideDocumento               int64  \n",
      " 30  urlDocumento               object \n",
      " 31  ano                        int64  \n",
      "dtypes: float64(8), int64(12), object(12)\n",
      "memory usage: 739.6+ MB\n"
     ]
    }
   ],
   "source": [
    "df.info()"
   ]
  },
  {
   "cell_type": "markdown",
   "metadata": {},
   "source": [
    "#### Segunda base de dados\n",
    "Na base de dados \"Eventos por ano que aconteceram com a descrição do evento\" foi  adicionado uma coluna com o respectivo ano para que seja possível juntar os data frames. Desse modo, foi estabelecido 3 novos data frames:\n",
    "1. df_eventos = Todos os eventos\n",
    "2. df_eventos_1= Eventos do mandato de 2011-2014\n",
    "2. df_eventos_2= Eventos do mandato de 2015-2018"
   ]
  },
  {
   "cell_type": "code",
   "execution_count": 5,
   "metadata": {},
   "outputs": [],
   "source": [
    "df_11 = pd.read_csv('./eventos-2011.csv', sep=\";\")\n",
    "df_11['ano'] = 2011\n",
    "df_12 = pd.read_csv('./eventos-2012.csv', sep=\";\")\n",
    "df_12['ano'] = 2012\n",
    "df_13 = pd.read_csv('./eventos-2013.csv', sep=\";\")\n",
    "df_13['ano'] = 2013\n",
    "df_14 = pd.read_csv('./eventos-2014.csv', sep=\";\")\n",
    "df_14['ano'] = 2014\n",
    "df_15 = pd.read_csv('./eventos-2015.csv', sep=\";\")\n",
    "df_15['ano'] = 2015\n",
    "df_16 = pd.read_csv('./eventos-2016.csv', sep=\";\")\n",
    "df_16['ano'] = 2016\n",
    "df_17 = pd.read_csv('./eventos-2017.csv', sep=\";\")\n",
    "df_17['ano'] = 2017\n",
    "df_18 = pd.read_csv('./eventos-2018.csv', sep=\";\")\n",
    "df_18['ano'] = 2018"
   ]
  },
  {
   "cell_type": "code",
   "execution_count": 6,
   "metadata": {},
   "outputs": [
    {
     "data": {
      "text/html": [
       "<div>\n",
       "<style scoped>\n",
       "    .dataframe tbody tr th:only-of-type {\n",
       "        vertical-align: middle;\n",
       "    }\n",
       "\n",
       "    .dataframe tbody tr th {\n",
       "        vertical-align: top;\n",
       "    }\n",
       "\n",
       "    .dataframe thead th {\n",
       "        text-align: right;\n",
       "    }\n",
       "</style>\n",
       "<table border=\"1\" class=\"dataframe\">\n",
       "  <thead>\n",
       "    <tr style=\"text-align: right;\">\n",
       "      <th></th>\n",
       "      <th>id</th>\n",
       "      <th>uri</th>\n",
       "      <th>urlDocumentoPauta</th>\n",
       "      <th>dataHoraInicio</th>\n",
       "      <th>dataHoraFim</th>\n",
       "      <th>situacao</th>\n",
       "      <th>descricao</th>\n",
       "      <th>descricaoTipo</th>\n",
       "      <th>localExterno</th>\n",
       "      <th>localCamara.nome</th>\n",
       "      <th>localCamara.predio</th>\n",
       "      <th>localCamara.sala</th>\n",
       "      <th>localCamara.andar</th>\n",
       "      <th>ano</th>\n",
       "    </tr>\n",
       "  </thead>\n",
       "  <tbody>\n",
       "    <tr>\n",
       "      <th>0</th>\n",
       "      <td>28166</td>\n",
       "      <td>https://dadosabertos.camara.leg.br/api/v2/even...</td>\n",
       "      <td>https://www.camara.gov.br/internet/ordemdodia/...</td>\n",
       "      <td>2011-12-22T17:19:00</td>\n",
       "      <td>2011-12-22T20:36:00</td>\n",
       "      <td>Encerrada</td>\n",
       "      <td>REUNIÃO DELIBERATIVA DA CMO\\r\\n\\r\\n1. ABERTURA...</td>\n",
       "      <td>Reunião Deliberativa</td>\n",
       "      <td>NaN</td>\n",
       "      <td>Anexo II, Plenário 01</td>\n",
       "      <td>NaN</td>\n",
       "      <td>NaN</td>\n",
       "      <td>NaN</td>\n",
       "      <td>2011</td>\n",
       "    </tr>\n",
       "    <tr>\n",
       "      <th>1</th>\n",
       "      <td>28163</td>\n",
       "      <td>https://dadosabertos.camara.leg.br/api/v2/even...</td>\n",
       "      <td>https://www.camara.gov.br/internet/ordemdodia/...</td>\n",
       "      <td>2011-12-22T14:00:00</td>\n",
       "      <td>2011-12-22T14:04:00</td>\n",
       "      <td>Encerrada</td>\n",
       "      <td>SESSÃO ORDINÁRIA DE DEBATES E TRABALHO DE COMI...</td>\n",
       "      <td>Trabalho de Comissões</td>\n",
       "      <td>NaN</td>\n",
       "      <td>Plenário da Câmara dos Deputados</td>\n",
       "      <td>NaN</td>\n",
       "      <td>NaN</td>\n",
       "      <td>NaN</td>\n",
       "      <td>2011</td>\n",
       "    </tr>\n",
       "    <tr>\n",
       "      <th>2</th>\n",
       "      <td>28165</td>\n",
       "      <td>https://dadosabertos.camara.leg.br/api/v2/even...</td>\n",
       "      <td>https://www.camara.gov.br/internet/ordemdodia/...</td>\n",
       "      <td>2011-12-22T13:47:00</td>\n",
       "      <td>2011-12-22T15:32:00</td>\n",
       "      <td>Encerrada (Final)</td>\n",
       "      <td>REUNIÃO DELIBERATIVA DA CMO\\r\\n\\r\\n1. ABERTURA...</td>\n",
       "      <td>Reunião Deliberativa</td>\n",
       "      <td>NaN</td>\n",
       "      <td>Anexo II, Plenário 01</td>\n",
       "      <td>NaN</td>\n",
       "      <td>NaN</td>\n",
       "      <td>NaN</td>\n",
       "      <td>2011</td>\n",
       "    </tr>\n",
       "    <tr>\n",
       "      <th>3</th>\n",
       "      <td>28164</td>\n",
       "      <td>https://dadosabertos.camara.leg.br/api/v2/even...</td>\n",
       "      <td>https://www.camara.gov.br/internet/ordemdodia/...</td>\n",
       "      <td>2011-12-22T10:02:00</td>\n",
       "      <td>2011-12-22T13:20:00</td>\n",
       "      <td>Encerrada</td>\n",
       "      <td>REUNIÃO DELIBERATIVA DA CMO\\r\\n\\r\\n1. ABERTURA...</td>\n",
       "      <td>Reunião Deliberativa</td>\n",
       "      <td>NaN</td>\n",
       "      <td>Anexo II, Plenário 02</td>\n",
       "      <td>NaN</td>\n",
       "      <td>NaN</td>\n",
       "      <td>NaN</td>\n",
       "      <td>2011</td>\n",
       "    </tr>\n",
       "    <tr>\n",
       "      <th>4</th>\n",
       "      <td>28148</td>\n",
       "      <td>https://dadosabertos.camara.leg.br/api/v2/even...</td>\n",
       "      <td>https://www.camara.gov.br/internet/ordemdodia/...</td>\n",
       "      <td>2011-12-21T19:59:00</td>\n",
       "      <td>2011-12-21T20:01:00</td>\n",
       "      <td>Encerrada</td>\n",
       "      <td>REUNIÃO DELIBERATIVA DA CMO\\r\\n\\r\\n1. ABERTURA...</td>\n",
       "      <td>Reunião Deliberativa</td>\n",
       "      <td>NaN</td>\n",
       "      <td>Anexo II, Plenário 02</td>\n",
       "      <td>NaN</td>\n",
       "      <td>NaN</td>\n",
       "      <td>NaN</td>\n",
       "      <td>2011</td>\n",
       "    </tr>\n",
       "  </tbody>\n",
       "</table>\n",
       "</div>"
      ],
      "text/plain": [
       "      id                                                uri  \\\n",
       "0  28166  https://dadosabertos.camara.leg.br/api/v2/even...   \n",
       "1  28163  https://dadosabertos.camara.leg.br/api/v2/even...   \n",
       "2  28165  https://dadosabertos.camara.leg.br/api/v2/even...   \n",
       "3  28164  https://dadosabertos.camara.leg.br/api/v2/even...   \n",
       "4  28148  https://dadosabertos.camara.leg.br/api/v2/even...   \n",
       "\n",
       "                                   urlDocumentoPauta       dataHoraInicio  \\\n",
       "0  https://www.camara.gov.br/internet/ordemdodia/...  2011-12-22T17:19:00   \n",
       "1  https://www.camara.gov.br/internet/ordemdodia/...  2011-12-22T14:00:00   \n",
       "2  https://www.camara.gov.br/internet/ordemdodia/...  2011-12-22T13:47:00   \n",
       "3  https://www.camara.gov.br/internet/ordemdodia/...  2011-12-22T10:02:00   \n",
       "4  https://www.camara.gov.br/internet/ordemdodia/...  2011-12-21T19:59:00   \n",
       "\n",
       "           dataHoraFim           situacao  \\\n",
       "0  2011-12-22T20:36:00          Encerrada   \n",
       "1  2011-12-22T14:04:00          Encerrada   \n",
       "2  2011-12-22T15:32:00  Encerrada (Final)   \n",
       "3  2011-12-22T13:20:00          Encerrada   \n",
       "4  2011-12-21T20:01:00          Encerrada   \n",
       "\n",
       "                                           descricao          descricaoTipo  \\\n",
       "0  REUNIÃO DELIBERATIVA DA CMO\\r\\n\\r\\n1. ABERTURA...   Reunião Deliberativa   \n",
       "1  SESSÃO ORDINÁRIA DE DEBATES E TRABALHO DE COMI...  Trabalho de Comissões   \n",
       "2  REUNIÃO DELIBERATIVA DA CMO\\r\\n\\r\\n1. ABERTURA...   Reunião Deliberativa   \n",
       "3  REUNIÃO DELIBERATIVA DA CMO\\r\\n\\r\\n1. ABERTURA...   Reunião Deliberativa   \n",
       "4  REUNIÃO DELIBERATIVA DA CMO\\r\\n\\r\\n1. ABERTURA...   Reunião Deliberativa   \n",
       "\n",
       "  localExterno                  localCamara.nome  localCamara.predio  \\\n",
       "0          NaN             Anexo II, Plenário 01                 NaN   \n",
       "1          NaN  Plenário da Câmara dos Deputados                 NaN   \n",
       "2          NaN             Anexo II, Plenário 01                 NaN   \n",
       "3          NaN             Anexo II, Plenário 02                 NaN   \n",
       "4          NaN             Anexo II, Plenário 02                 NaN   \n",
       "\n",
       "   localCamara.sala  localCamara.andar   ano  \n",
       "0               NaN                NaN  2011  \n",
       "1               NaN                NaN  2011  \n",
       "2               NaN                NaN  2011  \n",
       "3               NaN                NaN  2011  \n",
       "4               NaN                NaN  2011  "
      ]
     },
     "execution_count": 6,
     "metadata": {},
     "output_type": "execute_result"
    }
   ],
   "source": [
    "df_eventos = pd.concat([df_11,df_12,df_13,df_14,df_15,df_16,df_17,df_18])\n",
    "df_eventos.head()"
   ]
  },
  {
   "cell_type": "code",
   "execution_count": 7,
   "metadata": {},
   "outputs": [],
   "source": [
    "df_eventos_1 = pd.concat([df_11,df_12,df_13,df_14])\n",
    "df_eventos_2 = pd.concat([df_15,df_16,df_17,df_18])"
   ]
  },
  {
   "cell_type": "markdown",
   "metadata": {},
   "source": [
    "As variaveis de cada data frame são:"
   ]
  },
  {
   "cell_type": "code",
   "execution_count": 8,
   "metadata": {},
   "outputs": [
    {
     "name": "stdout",
     "output_type": "stream",
     "text": [
      "<class 'pandas.core.frame.DataFrame'>\n",
      "Int64Index: 22572 entries, 0 to 2210\n",
      "Data columns (total 14 columns):\n",
      " #   Column              Non-Null Count  Dtype  \n",
      "---  ------              --------------  -----  \n",
      " 0   id                  22572 non-null  int64  \n",
      " 1   uri                 22572 non-null  object \n",
      " 2   urlDocumentoPauta   21688 non-null  object \n",
      " 3   dataHoraInicio      22572 non-null  object \n",
      " 4   dataHoraFim         17553 non-null  object \n",
      " 5   situacao            22572 non-null  object \n",
      " 6   descricao           22572 non-null  object \n",
      " 7   descricaoTipo       22572 non-null  object \n",
      " 8   localExterno        2433 non-null   object \n",
      " 9   localCamara.nome    20138 non-null  object \n",
      " 10  localCamara.predio  0 non-null      float64\n",
      " 11  localCamara.sala    0 non-null      float64\n",
      " 12  localCamara.andar   0 non-null      float64\n",
      " 13  ano                 22572 non-null  int64  \n",
      "dtypes: float64(3), int64(2), object(9)\n",
      "memory usage: 2.6+ MB\n"
     ]
    }
   ],
   "source": [
    "df_eventos.info()"
   ]
  },
  {
   "cell_type": "markdown",
   "metadata": {},
   "source": [
    "#### Terceira base de dados\n",
    "Na base de dados \"Eventos por ano que cada candidato esteve presente\" foi  adicionado uma coluna com o respectivo ano para que seja possível juntar os data frames. Dessa maneira, foi estabelecido 3 novos data frames:\n",
    "1. df_eventos_presentes = Todos os eventos com os candidatos presentes\n",
    "2. df_eventos_presentes_1= Eventos com os candidatos presentes do mandato de 2011-2014\n",
    "2. df_eventos_presentes_2= Eventos com os candidatos presentes do mandato de 2015-2018"
   ]
  },
  {
   "cell_type": "code",
   "execution_count": 9,
   "metadata": {},
   "outputs": [],
   "source": [
    "df_01 = pd.read_csv('./eventosPresencaDeputados-2011.csv', sep=\";\")\n",
    "df_01['ano'] = 2011\n",
    "df_02 = pd.read_csv('./eventosPresencaDeputados-2012.csv', sep=\";\")\n",
    "df_02['ano'] = 2012\n",
    "df_3 = pd.read_csv('./eventosPresencaDeputados-2013.csv', sep=\";\")\n",
    "df_3['ano'] = 2013\n",
    "df_4 = pd.read_csv('./eventosPresencaDeputados-2014.csv', sep=\";\")\n",
    "df_4['ano'] = 2014\n",
    "df_5 = pd.read_csv('./eventosPresencaDeputados-2015.csv', sep=\";\")\n",
    "df_5['ano'] = 2015\n",
    "df_6 = pd.read_csv('./eventosPresencaDeputados-2016.csv', sep=\";\")\n",
    "df_6['ano'] = 2016\n",
    "df_7 = pd.read_csv('./eventosPresencaDeputados-2017.csv', sep=\";\")\n",
    "df_7['ano'] = 2017\n",
    "df_8 = pd.read_csv('./eventosPresencaDeputados-2018.csv', sep=\";\")\n",
    "df_8['ano'] = 2018"
   ]
  },
  {
   "cell_type": "code",
   "execution_count": 10,
   "metadata": {},
   "outputs": [
    {
     "data": {
      "text/html": [
       "<div>\n",
       "<style scoped>\n",
       "    .dataframe tbody tr th:only-of-type {\n",
       "        vertical-align: middle;\n",
       "    }\n",
       "\n",
       "    .dataframe tbody tr th {\n",
       "        vertical-align: top;\n",
       "    }\n",
       "\n",
       "    .dataframe thead th {\n",
       "        text-align: right;\n",
       "    }\n",
       "</style>\n",
       "<table border=\"1\" class=\"dataframe\">\n",
       "  <thead>\n",
       "    <tr style=\"text-align: right;\">\n",
       "      <th></th>\n",
       "      <th>idEvento</th>\n",
       "      <th>uriEvento</th>\n",
       "      <th>dataHoraInicio</th>\n",
       "      <th>idDeputado</th>\n",
       "      <th>uriDeputado</th>\n",
       "      <th>ano</th>\n",
       "    </tr>\n",
       "  </thead>\n",
       "  <tbody>\n",
       "    <tr>\n",
       "      <th>0</th>\n",
       "      <td>22450</td>\n",
       "      <td>https://dadosabertos.camara.leg.br/api/v2/even...</td>\n",
       "      <td>2011-10-25T14:30:00</td>\n",
       "      <td>73459</td>\n",
       "      <td>https://dadosabertos.camara.leg.br/api/v2/depu...</td>\n",
       "      <td>2011</td>\n",
       "    </tr>\n",
       "    <tr>\n",
       "      <th>1</th>\n",
       "      <td>22450</td>\n",
       "      <td>https://dadosabertos.camara.leg.br/api/v2/even...</td>\n",
       "      <td>2011-10-25T14:30:00</td>\n",
       "      <td>74027</td>\n",
       "      <td>https://dadosabertos.camara.leg.br/api/v2/depu...</td>\n",
       "      <td>2011</td>\n",
       "    </tr>\n",
       "    <tr>\n",
       "      <th>2</th>\n",
       "      <td>22450</td>\n",
       "      <td>https://dadosabertos.camara.leg.br/api/v2/even...</td>\n",
       "      <td>2011-10-25T14:30:00</td>\n",
       "      <td>74400</td>\n",
       "      <td>https://dadosabertos.camara.leg.br/api/v2/depu...</td>\n",
       "      <td>2011</td>\n",
       "    </tr>\n",
       "    <tr>\n",
       "      <th>3</th>\n",
       "      <td>22450</td>\n",
       "      <td>https://dadosabertos.camara.leg.br/api/v2/even...</td>\n",
       "      <td>2011-10-25T14:30:00</td>\n",
       "      <td>141453</td>\n",
       "      <td>https://dadosabertos.camara.leg.br/api/v2/depu...</td>\n",
       "      <td>2011</td>\n",
       "    </tr>\n",
       "    <tr>\n",
       "      <th>4</th>\n",
       "      <td>22450</td>\n",
       "      <td>https://dadosabertos.camara.leg.br/api/v2/even...</td>\n",
       "      <td>2011-10-25T14:30:00</td>\n",
       "      <td>141456</td>\n",
       "      <td>https://dadosabertos.camara.leg.br/api/v2/depu...</td>\n",
       "      <td>2011</td>\n",
       "    </tr>\n",
       "  </tbody>\n",
       "</table>\n",
       "</div>"
      ],
      "text/plain": [
       "   idEvento                                          uriEvento  \\\n",
       "0     22450  https://dadosabertos.camara.leg.br/api/v2/even...   \n",
       "1     22450  https://dadosabertos.camara.leg.br/api/v2/even...   \n",
       "2     22450  https://dadosabertos.camara.leg.br/api/v2/even...   \n",
       "3     22450  https://dadosabertos.camara.leg.br/api/v2/even...   \n",
       "4     22450  https://dadosabertos.camara.leg.br/api/v2/even...   \n",
       "\n",
       "        dataHoraInicio  idDeputado  \\\n",
       "0  2011-10-25T14:30:00       73459   \n",
       "1  2011-10-25T14:30:00       74027   \n",
       "2  2011-10-25T14:30:00       74400   \n",
       "3  2011-10-25T14:30:00      141453   \n",
       "4  2011-10-25T14:30:00      141456   \n",
       "\n",
       "                                         uriDeputado   ano  \n",
       "0  https://dadosabertos.camara.leg.br/api/v2/depu...  2011  \n",
       "1  https://dadosabertos.camara.leg.br/api/v2/depu...  2011  \n",
       "2  https://dadosabertos.camara.leg.br/api/v2/depu...  2011  \n",
       "3  https://dadosabertos.camara.leg.br/api/v2/depu...  2011  \n",
       "4  https://dadosabertos.camara.leg.br/api/v2/depu...  2011  "
      ]
     },
     "execution_count": 10,
     "metadata": {},
     "output_type": "execute_result"
    }
   ],
   "source": [
    "df_eventos_presentes = pd.concat([df_01,df_02,df_3,df_4,df_5,df_6,df_7,df_8])\n",
    "df_eventos_presentes.head()"
   ]
  },
  {
   "cell_type": "code",
   "execution_count": 11,
   "metadata": {},
   "outputs": [],
   "source": [
    "df_eventos_presentes_1 = pd.concat([df_01,df_02,df_3,df_4])\n",
    "df_eventos_presentes_2 = pd.concat([df_5,df_6,df_7,df_8])"
   ]
  },
  {
   "cell_type": "markdown",
   "metadata": {},
   "source": [
    "As variaveis de cada data frame são:"
   ]
  },
  {
   "cell_type": "code",
   "execution_count": 12,
   "metadata": {},
   "outputs": [
    {
     "name": "stdout",
     "output_type": "stream",
     "text": [
      "<class 'pandas.core.frame.DataFrame'>\n",
      "Int64Index: 936894 entries, 0 to 82654\n",
      "Data columns (total 6 columns):\n",
      " #   Column          Non-Null Count   Dtype \n",
      "---  ------          --------------   ----- \n",
      " 0   idEvento        936894 non-null  int64 \n",
      " 1   uriEvento       936894 non-null  object\n",
      " 2   dataHoraInicio  936894 non-null  object\n",
      " 3   idDeputado      936894 non-null  int64 \n",
      " 4   uriDeputado     936894 non-null  object\n",
      " 5   ano             936894 non-null  int64 \n",
      "dtypes: int64(3), object(3)\n",
      "memory usage: 50.0+ MB\n"
     ]
    }
   ],
   "source": [
    "df_eventos_presentes.info()"
   ]
  },
  {
   "cell_type": "markdown",
   "metadata": {},
   "source": [
    "# Resultados\n",
    "## Análise Exploratória"
   ]
  },
  {
   "cell_type": "code",
   "execution_count": 13,
   "metadata": {
    "scrolled": true
   },
   "outputs": [
    {
     "name": "stdout",
     "output_type": "stream",
     "text": [
      "Visualização geral por ano do primeiro banco de dados\n"
     ]
    },
    {
     "data": {
      "text/html": [
       "<div>\n",
       "<style scoped>\n",
       "    .dataframe tbody tr th:only-of-type {\n",
       "        vertical-align: middle;\n",
       "    }\n",
       "\n",
       "    .dataframe tbody tr th {\n",
       "        vertical-align: top;\n",
       "    }\n",
       "\n",
       "    .dataframe thead th {\n",
       "        text-align: right;\n",
       "    }\n",
       "</style>\n",
       "<table border=\"1\" class=\"dataframe\">\n",
       "  <thead>\n",
       "    <tr style=\"text-align: right;\">\n",
       "      <th></th>\n",
       "      <th></th>\n",
       "      <th>txNomeParlamentar</th>\n",
       "      <th>cpf</th>\n",
       "      <th>ideCadastro</th>\n",
       "      <th>nuCarteiraParlamentar</th>\n",
       "      <th>nuLegislatura</th>\n",
       "      <th>sgUF</th>\n",
       "      <th>sgPartido</th>\n",
       "      <th>codLegislatura</th>\n",
       "      <th>numSubCota</th>\n",
       "      <th>txtDescricao</th>\n",
       "      <th>...</th>\n",
       "      <th>numMes</th>\n",
       "      <th>numAno</th>\n",
       "      <th>numParcela</th>\n",
       "      <th>txtPassageiro</th>\n",
       "      <th>txtTrecho</th>\n",
       "      <th>numLote</th>\n",
       "      <th>numRessarcimento</th>\n",
       "      <th>vlrRestituicao</th>\n",
       "      <th>ideDocumento</th>\n",
       "      <th>urlDocumento</th>\n",
       "    </tr>\n",
       "    <tr>\n",
       "      <th>ano</th>\n",
       "      <th>nuDeputadoId</th>\n",
       "      <th></th>\n",
       "      <th></th>\n",
       "      <th></th>\n",
       "      <th></th>\n",
       "      <th></th>\n",
       "      <th></th>\n",
       "      <th></th>\n",
       "      <th></th>\n",
       "      <th></th>\n",
       "      <th></th>\n",
       "      <th></th>\n",
       "      <th></th>\n",
       "      <th></th>\n",
       "      <th></th>\n",
       "      <th></th>\n",
       "      <th></th>\n",
       "      <th></th>\n",
       "      <th></th>\n",
       "      <th></th>\n",
       "      <th></th>\n",
       "      <th></th>\n",
       "    </tr>\n",
       "  </thead>\n",
       "  <tbody>\n",
       "    <tr>\n",
       "      <th rowspan=\"5\" valign=\"top\">2011</th>\n",
       "      <th>12</th>\n",
       "      <td>29</td>\n",
       "      <td>25</td>\n",
       "      <td>29</td>\n",
       "      <td>29</td>\n",
       "      <td>29</td>\n",
       "      <td>29</td>\n",
       "      <td>29</td>\n",
       "      <td>29</td>\n",
       "      <td>29</td>\n",
       "      <td>29</td>\n",
       "      <td>...</td>\n",
       "      <td>29</td>\n",
       "      <td>29</td>\n",
       "      <td>29</td>\n",
       "      <td>4</td>\n",
       "      <td>4</td>\n",
       "      <td>29</td>\n",
       "      <td>22</td>\n",
       "      <td>0</td>\n",
       "      <td>29</td>\n",
       "      <td>0</td>\n",
       "    </tr>\n",
       "    <tr>\n",
       "      <th>47</th>\n",
       "      <td>165</td>\n",
       "      <td>165</td>\n",
       "      <td>165</td>\n",
       "      <td>165</td>\n",
       "      <td>165</td>\n",
       "      <td>165</td>\n",
       "      <td>165</td>\n",
       "      <td>165</td>\n",
       "      <td>165</td>\n",
       "      <td>165</td>\n",
       "      <td>...</td>\n",
       "      <td>165</td>\n",
       "      <td>165</td>\n",
       "      <td>165</td>\n",
       "      <td>90</td>\n",
       "      <td>90</td>\n",
       "      <td>165</td>\n",
       "      <td>153</td>\n",
       "      <td>0</td>\n",
       "      <td>165</td>\n",
       "      <td>0</td>\n",
       "    </tr>\n",
       "    <tr>\n",
       "      <th>59</th>\n",
       "      <td>140</td>\n",
       "      <td>140</td>\n",
       "      <td>140</td>\n",
       "      <td>140</td>\n",
       "      <td>140</td>\n",
       "      <td>140</td>\n",
       "      <td>140</td>\n",
       "      <td>140</td>\n",
       "      <td>140</td>\n",
       "      <td>140</td>\n",
       "      <td>...</td>\n",
       "      <td>140</td>\n",
       "      <td>140</td>\n",
       "      <td>140</td>\n",
       "      <td>63</td>\n",
       "      <td>63</td>\n",
       "      <td>140</td>\n",
       "      <td>110</td>\n",
       "      <td>0</td>\n",
       "      <td>140</td>\n",
       "      <td>0</td>\n",
       "    </tr>\n",
       "    <tr>\n",
       "      <th>67</th>\n",
       "      <td>37</td>\n",
       "      <td>37</td>\n",
       "      <td>37</td>\n",
       "      <td>37</td>\n",
       "      <td>37</td>\n",
       "      <td>37</td>\n",
       "      <td>37</td>\n",
       "      <td>37</td>\n",
       "      <td>37</td>\n",
       "      <td>37</td>\n",
       "      <td>...</td>\n",
       "      <td>37</td>\n",
       "      <td>37</td>\n",
       "      <td>37</td>\n",
       "      <td>1</td>\n",
       "      <td>1</td>\n",
       "      <td>37</td>\n",
       "      <td>13</td>\n",
       "      <td>0</td>\n",
       "      <td>37</td>\n",
       "      <td>0</td>\n",
       "    </tr>\n",
       "    <tr>\n",
       "      <th>74</th>\n",
       "      <td>12</td>\n",
       "      <td>12</td>\n",
       "      <td>12</td>\n",
       "      <td>12</td>\n",
       "      <td>12</td>\n",
       "      <td>12</td>\n",
       "      <td>12</td>\n",
       "      <td>12</td>\n",
       "      <td>12</td>\n",
       "      <td>12</td>\n",
       "      <td>...</td>\n",
       "      <td>12</td>\n",
       "      <td>12</td>\n",
       "      <td>12</td>\n",
       "      <td>1</td>\n",
       "      <td>1</td>\n",
       "      <td>12</td>\n",
       "      <td>10</td>\n",
       "      <td>0</td>\n",
       "      <td>12</td>\n",
       "      <td>0</td>\n",
       "    </tr>\n",
       "    <tr>\n",
       "      <th>...</th>\n",
       "      <th>...</th>\n",
       "      <td>...</td>\n",
       "      <td>...</td>\n",
       "      <td>...</td>\n",
       "      <td>...</td>\n",
       "      <td>...</td>\n",
       "      <td>...</td>\n",
       "      <td>...</td>\n",
       "      <td>...</td>\n",
       "      <td>...</td>\n",
       "      <td>...</td>\n",
       "      <td>...</td>\n",
       "      <td>...</td>\n",
       "      <td>...</td>\n",
       "      <td>...</td>\n",
       "      <td>...</td>\n",
       "      <td>...</td>\n",
       "      <td>...</td>\n",
       "      <td>...</td>\n",
       "      <td>...</td>\n",
       "      <td>...</td>\n",
       "      <td>...</td>\n",
       "    </tr>\n",
       "    <tr>\n",
       "      <th rowspan=\"5\" valign=\"top\">2018</th>\n",
       "      <th>3184</th>\n",
       "      <td>102</td>\n",
       "      <td>102</td>\n",
       "      <td>102</td>\n",
       "      <td>102</td>\n",
       "      <td>102</td>\n",
       "      <td>102</td>\n",
       "      <td>102</td>\n",
       "      <td>102</td>\n",
       "      <td>102</td>\n",
       "      <td>102</td>\n",
       "      <td>...</td>\n",
       "      <td>102</td>\n",
       "      <td>102</td>\n",
       "      <td>102</td>\n",
       "      <td>44</td>\n",
       "      <td>42</td>\n",
       "      <td>102</td>\n",
       "      <td>62</td>\n",
       "      <td>0</td>\n",
       "      <td>102</td>\n",
       "      <td>40</td>\n",
       "    </tr>\n",
       "    <tr>\n",
       "      <th>3185</th>\n",
       "      <td>75</td>\n",
       "      <td>75</td>\n",
       "      <td>75</td>\n",
       "      <td>75</td>\n",
       "      <td>75</td>\n",
       "      <td>75</td>\n",
       "      <td>75</td>\n",
       "      <td>75</td>\n",
       "      <td>75</td>\n",
       "      <td>75</td>\n",
       "      <td>...</td>\n",
       "      <td>75</td>\n",
       "      <td>75</td>\n",
       "      <td>75</td>\n",
       "      <td>3</td>\n",
       "      <td>3</td>\n",
       "      <td>75</td>\n",
       "      <td>8</td>\n",
       "      <td>2</td>\n",
       "      <td>75</td>\n",
       "      <td>67</td>\n",
       "    </tr>\n",
       "    <tr>\n",
       "      <th>3186</th>\n",
       "      <td>30</td>\n",
       "      <td>30</td>\n",
       "      <td>30</td>\n",
       "      <td>30</td>\n",
       "      <td>30</td>\n",
       "      <td>30</td>\n",
       "      <td>30</td>\n",
       "      <td>30</td>\n",
       "      <td>30</td>\n",
       "      <td>30</td>\n",
       "      <td>...</td>\n",
       "      <td>30</td>\n",
       "      <td>30</td>\n",
       "      <td>30</td>\n",
       "      <td>13</td>\n",
       "      <td>13</td>\n",
       "      <td>30</td>\n",
       "      <td>23</td>\n",
       "      <td>0</td>\n",
       "      <td>30</td>\n",
       "      <td>7</td>\n",
       "    </tr>\n",
       "    <tr>\n",
       "      <th>3187</th>\n",
       "      <td>40</td>\n",
       "      <td>40</td>\n",
       "      <td>40</td>\n",
       "      <td>40</td>\n",
       "      <td>40</td>\n",
       "      <td>40</td>\n",
       "      <td>40</td>\n",
       "      <td>40</td>\n",
       "      <td>40</td>\n",
       "      <td>40</td>\n",
       "      <td>...</td>\n",
       "      <td>40</td>\n",
       "      <td>40</td>\n",
       "      <td>40</td>\n",
       "      <td>21</td>\n",
       "      <td>21</td>\n",
       "      <td>40</td>\n",
       "      <td>30</td>\n",
       "      <td>0</td>\n",
       "      <td>40</td>\n",
       "      <td>10</td>\n",
       "    </tr>\n",
       "    <tr>\n",
       "      <th>3188</th>\n",
       "      <td>14</td>\n",
       "      <td>14</td>\n",
       "      <td>14</td>\n",
       "      <td>14</td>\n",
       "      <td>14</td>\n",
       "      <td>14</td>\n",
       "      <td>14</td>\n",
       "      <td>14</td>\n",
       "      <td>14</td>\n",
       "      <td>14</td>\n",
       "      <td>...</td>\n",
       "      <td>14</td>\n",
       "      <td>14</td>\n",
       "      <td>14</td>\n",
       "      <td>1</td>\n",
       "      <td>1</td>\n",
       "      <td>14</td>\n",
       "      <td>2</td>\n",
       "      <td>0</td>\n",
       "      <td>14</td>\n",
       "      <td>12</td>\n",
       "    </tr>\n",
       "  </tbody>\n",
       "</table>\n",
       "<p>5081 rows × 30 columns</p>\n",
       "</div>"
      ],
      "text/plain": [
       "                   txNomeParlamentar  cpf  ideCadastro  nuCarteiraParlamentar  \\\n",
       "ano  nuDeputadoId                                                               \n",
       "2011 12                           29   25           29                     29   \n",
       "     47                          165  165          165                    165   \n",
       "     59                          140  140          140                    140   \n",
       "     67                           37   37           37                     37   \n",
       "     74                           12   12           12                     12   \n",
       "...                              ...  ...          ...                    ...   \n",
       "2018 3184                        102  102          102                    102   \n",
       "     3185                         75   75           75                     75   \n",
       "     3186                         30   30           30                     30   \n",
       "     3187                         40   40           40                     40   \n",
       "     3188                         14   14           14                     14   \n",
       "\n",
       "                   nuLegislatura  sgUF  sgPartido  codLegislatura  numSubCota  \\\n",
       "ano  nuDeputadoId                                                               \n",
       "2011 12                       29    29         29              29          29   \n",
       "     47                      165   165        165             165         165   \n",
       "     59                      140   140        140             140         140   \n",
       "     67                       37    37         37              37          37   \n",
       "     74                       12    12         12              12          12   \n",
       "...                          ...   ...        ...             ...         ...   \n",
       "2018 3184                    102   102        102             102         102   \n",
       "     3185                     75    75         75              75          75   \n",
       "     3186                     30    30         30              30          30   \n",
       "     3187                     40    40         40              40          40   \n",
       "     3188                     14    14         14              14          14   \n",
       "\n",
       "                   txtDescricao  ...  numMes  numAno  numParcela  \\\n",
       "ano  nuDeputadoId                ...                               \n",
       "2011 12                      29  ...      29      29          29   \n",
       "     47                     165  ...     165     165         165   \n",
       "     59                     140  ...     140     140         140   \n",
       "     67                      37  ...      37      37          37   \n",
       "     74                      12  ...      12      12          12   \n",
       "...                         ...  ...     ...     ...         ...   \n",
       "2018 3184                   102  ...     102     102         102   \n",
       "     3185                    75  ...      75      75          75   \n",
       "     3186                    30  ...      30      30          30   \n",
       "     3187                    40  ...      40      40          40   \n",
       "     3188                    14  ...      14      14          14   \n",
       "\n",
       "                   txtPassageiro  txtTrecho  numLote  numRessarcimento  \\\n",
       "ano  nuDeputadoId                                                        \n",
       "2011 12                        4          4       29                22   \n",
       "     47                       90         90      165               153   \n",
       "     59                       63         63      140               110   \n",
       "     67                        1          1       37                13   \n",
       "     74                        1          1       12                10   \n",
       "...                          ...        ...      ...               ...   \n",
       "2018 3184                     44         42      102                62   \n",
       "     3185                      3          3       75                 8   \n",
       "     3186                     13         13       30                23   \n",
       "     3187                     21         21       40                30   \n",
       "     3188                      1          1       14                 2   \n",
       "\n",
       "                   vlrRestituicao  ideDocumento  urlDocumento  \n",
       "ano  nuDeputadoId                                              \n",
       "2011 12                         0            29             0  \n",
       "     47                         0           165             0  \n",
       "     59                         0           140             0  \n",
       "     67                         0            37             0  \n",
       "     74                         0            12             0  \n",
       "...                           ...           ...           ...  \n",
       "2018 3184                       0           102            40  \n",
       "     3185                       2            75            67  \n",
       "     3186                       0            30             7  \n",
       "     3187                       0            40            10  \n",
       "     3188                       0            14            12  \n",
       "\n",
       "[5081 rows x 30 columns]"
      ]
     },
     "execution_count": 13,
     "metadata": {},
     "output_type": "execute_result"
    }
   ],
   "source": [
    "print(\"Visualização geral por ano do primeiro banco de dados\")\n",
    "df.groupby([df['ano'], 'nuDeputadoId']).count()"
   ]
  },
  {
   "cell_type": "markdown",
   "metadata": {},
   "source": [
    "### Cotas por candidato\n",
    "Segue abaixo dois gráficos comparando os 10 deputados de cada mandato que mais utilizaram das cotas, em relação a quantidade de uso, não valor gasto."
   ]
  },
  {
   "cell_type": "code",
   "execution_count": 14,
   "metadata": {
    "scrolled": false
   },
   "outputs": [
    {
     "data": {
      "image/png": "[encoded data removed]",
      "text/plain": [
       "<Figure size 432x288 with 1 Axes>"
      ]
     },
     "metadata": {
      "needs_background": "light"
     },
     "output_type": "display_data"
    }
   ],
   "source": [
    "from matplotlib import pyplot as plt\n",
    "df_1.txNomeParlamentar.value_counts().head(n=10).plot.bar(title=\"Quantidade de vezes que foram utilizado cotas pelos 10 deputados que mais apareceram nos anos de 2011-2014\",color='g')\n",
    "plt.xlabel('Deputado')\n",
    "plt.ylabel('Quantidade')\n",
    "plt.show()"
   ]
  },
  {
   "cell_type": "code",
   "execution_count": 15,
   "metadata": {
    "scrolled": true
   },
   "outputs": [
    {
     "data": {
      "image/png": "[encoded data removed]",
      "text/plain": [
       "<Figure size 432x288 with 1 Axes>"
      ]
     },
     "metadata": {
      "needs_background": "light"
     },
     "output_type": "display_data"
    }
   ],
   "source": [
    "df_2.txNomeParlamentar.value_counts().head(n=10).plot.bar(title=\"Quantidade de vezes que foram utilizado cotas pelos 10 deputados que mais apareceram nos anos de 2015-2018\",color='b')\n",
    "plt.xlabel('Deputado')\n",
    "plt.ylabel('Quantidade')\n",
    "plt.show()"
   ]
  },
  {
   "cell_type": "code",
   "execution_count": 16,
   "metadata": {},
   "outputs": [
    {
     "name": "stdout",
     "output_type": "stream",
     "text": [
      "média do uso das cotas de 2011-2014 por candidato: 1794.8551810463316\n",
      "média do uso das cotas de 2015-2018 por candidato: 2220.5501571200216\n"
     ]
    }
   ],
   "source": [
    "print('média do uso das cotas de 2011-2014 por candidato:',df_1.nuDeputadoId.mean())\n",
    "print('média do uso das cotas de 2015-2018 por candidato:',df_2.nuDeputadoId.mean())"
   ]
  },
  {
   "cell_type": "markdown",
   "metadata": {},
   "source": [
    "#### Comparando o uso de cotas por candidato de cada mandato\n",
    "Comparando os dois mandatos percebe que alguns deputados que foram releitos esteve presente no ranking dos 10 que mais utilizaram as cotas, Jorge Tadeu Mudalen, Zeca Dirceu e Henrique Fontana. Além disso, ambos os gráficos aparentam ter valores similares se comparado a cada colocação, entretanto a média do uso das cotas por candidato aumentou bastante de um mandato para outro."
   ]
  },
  {
   "cell_type": "code",
   "execution_count": 17,
   "metadata": {},
   "outputs": [
    {
     "data": {
      "image/png": "[encoded data removed]",
      "text/plain": [
       "<Figure size 432x288 with 1 Axes>"
      ]
     },
     "metadata": {
      "needs_background": "light"
     },
     "output_type": "display_data"
    }
   ],
   "source": [
    "a = df.ano.value_counts()\n",
    "a\n",
    "plt.scatter(['2011', '2012', '2013','2014', '2015', '2016','2017', '2018'],[385169,358343,391167,356072,403600,383062,367714,292607], marker = '*')\n",
    "plt.title('Quantidade de Cotas por ano')\n",
    "plt.xlabel('Ano')\n",
    "plt.ylabel('Quantidade')\n",
    "plt.show()\n",
    "\n"
   ]
  },
  {
   "cell_type": "markdown",
   "metadata": {},
   "source": [
    "#### Comentário sobre o gráfico\n",
    "É interesante ressaltar que esperavamos uma constância na quantidade de uso de cotas por ano, apenas mudanças relativamente baixas o que não foi o caso. Ademais, o fim do mandato teve os menores valores e o início dos mandatos teve valores mais elevados."
   ]
  },
  {
   "cell_type": "markdown",
   "metadata": {},
   "source": [
    "### Quais cotas foram mais utilizadas"
   ]
  },
  {
   "cell_type": "code",
   "execution_count": 18,
   "metadata": {},
   "outputs": [
    {
     "name": "stdout",
     "output_type": "stream",
     "text": [
      "As 10 cotas que mais foram utilizadas de 2011-2014\n"
     ]
    },
    {
     "data": {
      "text/plain": [
       "PASSAGEM AÉREA - RPA                                            381286\n",
       "COMBUSTÍVEIS E LUBRIFICANTES.                                   285054\n",
       "TELEFONIA                                                       279751\n",
       "SERVIÇOS POSTAIS                                                159697\n",
       "FORNECIMENTO DE ALIMENTAÇÃO DO PARLAMENTAR                      101244\n",
       "LOCAÇÃO DE VEÍCULOS AUTOMOTORES OU FRETAMENTO DE EMBARCAÇÕES     96481\n",
       "MANUTENÇÃO DE ESCRITÓRIO DE APOIO À ATIVIDADE PARLAMENTAR        81810\n",
       "DIVULGAÇÃO DA ATIVIDADE PARLAMENTAR.                             32119\n",
       "HOSPEDAGEM ,EXCETO DO PARLAMENTAR NO DISTRITO FEDERAL.           22882\n",
       "SERVIÇO DE TÁXI, PEDÁGIO E ESTACIONAMENTO                        19741\n",
       "Name: txtDescricao, dtype: int64"
      ]
     },
     "execution_count": 18,
     "metadata": {},
     "output_type": "execute_result"
    }
   ],
   "source": [
    "print(\"As 10 cotas que mais foram utilizadas de 2011-2014\")\n",
    "df_1.txtDescricao.value_counts().head(n=10)"
   ]
  },
  {
   "cell_type": "code",
   "execution_count": 19,
   "metadata": {},
   "outputs": [
    {
     "name": "stdout",
     "output_type": "stream",
     "text": [
      "As 10 cotas que mais foram utilizadas de 2015-2018\n"
     ]
    },
    {
     "data": {
      "text/plain": [
       "PASSAGEM AÉREA - RPA                                         432471\n",
       "COMBUSTÍVEIS E LUBRIFICANTES.                                279715\n",
       "TELEFONIA                                                    211606\n",
       "SERVIÇO DE TÁXI, PEDÁGIO E ESTACIONAMENTO                    107093\n",
       "SERVIÇOS POSTAIS                                             104645\n",
       "FORNECIMENTO DE ALIMENTAÇÃO DO PARLAMENTAR                    94355\n",
       "MANUTENÇÃO DE ESCRITÓRIO DE APOIO À ATIVIDADE PARLAMENTAR     90548\n",
       "DIVULGAÇÃO DA ATIVIDADE PARLAMENTAR.                          42270\n",
       "HOSPEDAGEM ,EXCETO DO PARLAMENTAR NO DISTRITO FEDERAL.        26212\n",
       "LOCAÇÃO OU FRETAMENTO DE VEÍCULOS AUTOMOTORES                 24806\n",
       "Name: txtDescricao, dtype: int64"
      ]
     },
     "execution_count": 19,
     "metadata": {},
     "output_type": "execute_result"
    }
   ],
   "source": [
    "print(\"As 10 cotas que mais foram utilizadas de 2015-2018\")\n",
    "df_2.txtDescricao.value_counts().head(n=10)"
   ]
  },
  {
   "cell_type": "code",
   "execution_count": 20,
   "metadata": {},
   "outputs": [
    {
     "data": {
      "image/png": "[encoded data removed]",
      "text/plain": [
       "<Figure size 432x288 with 1 Axes>"
      ]
     },
     "metadata": {
      "needs_background": "light"
     },
     "output_type": "display_data"
    }
   ],
   "source": [
    "df.txtDescricao.value_counts().head(n=10).plot.bar()\n",
    "plt.title('As 1o cotas que mais foram utilizadas de 2011-2018')\n",
    "plt.xlabel('Cota')\n",
    "plt.ylabel('Quantidade')\n",
    "plt.show()"
   ]
  },
  {
   "cell_type": "code",
   "execution_count": 21,
   "metadata": {},
   "outputs": [
    {
     "name": "stdout",
     "output_type": "stream",
     "text": [
      "média do uso das cotas de 2011-2014 por cota: 82819.5\n",
      "média do uso das cotas de 2015-2018 por cota: 80387.94444444444\n"
     ]
    }
   ],
   "source": [
    "print('média do uso das cotas de 2011-2014 por cota:',df_1.txtDescricao.value_counts().mean())\n",
    "print('média do uso das cotas de 2015-2018 por cota:',df_2.txtDescricao.value_counts().mean())"
   ]
  },
  {
   "cell_type": "markdown",
   "metadata": {},
   "source": [
    "#### Comentário sobre as cotas\n",
    "Percebe-se que apesar do número de cotas diminuir em relação a cada cota, a quantidade de cotas por candidato aumenta."
   ]
  },
  {
   "cell_type": "markdown",
   "metadata": {},
   "source": [
    "### Quais valores líquidos foram maiores por candidato e cota"
   ]
  },
  {
   "cell_type": "code",
   "execution_count": 22,
   "metadata": {},
   "outputs": [
    {
     "name": "stdout",
     "output_type": "stream",
     "text": [
      "Os 10 candidatos que tiveram maior valor liquido em relação as cotas nos anos de 2011-2014\n"
     ]
    },
    {
     "data": {
      "text/plain": [
       "txNomeParlamentar\n",
       "CHICO DAS VERDURAS       2182762.62\n",
       "Edio Lopes               1768300.45\n",
       "Jhonatan de Jesus        1753412.87\n",
       "MOREIRA MENDES           1734656.09\n",
       "Perpétua Almeida         1733755.53\n",
       "PAULO CESAR QUARTIERO    1729754.91\n",
       "Silas Câmara             1720887.84\n",
       "RAUL LIMA                1707777.32\n",
       "EVANDRO MILHOMEN         1705871.91\n",
       "GLADSON CAMELI           1693969.00\n",
       "Name: vlrLiquido, dtype: float64"
      ]
     },
     "execution_count": 22,
     "metadata": {},
     "output_type": "execute_result"
    }
   ],
   "source": [
    "print(\"Os 10 candidatos que tiveram maior valor liquido em relação as cotas nos anos de 2011-2014\")\n",
    "df_1.groupby(['txNomeParlamentar'])['vlrLiquido'].sum().sort_values(ascending=False).head(10)"
   ]
  },
  {
   "cell_type": "code",
   "execution_count": 23,
   "metadata": {},
   "outputs": [
    {
     "name": "stdout",
     "output_type": "stream",
     "text": [
      "Os 10 candidatos que tiveram maior valor liquido em relação as cotas nos anos de 2015-2018\n"
     ]
    },
    {
     "data": {
      "text/plain": [
       "txNomeParlamentar\n",
       "Jhonatan de Jesus    2199968.55\n",
       "Edio Lopes           2167492.52\n",
       "REMÍDIO MONAI        2156400.21\n",
       "Hiran Gonçalves      2124162.39\n",
       "CARLOS ANDRADE       2110581.37\n",
       "Vinicius Gurgel      2101224.81\n",
       "Jéssica Sales        2093041.48\n",
       "ABEL MESQUITA JR.    2093033.49\n",
       "MARIA HELENA         2091810.27\n",
       "Silas Câmara         2084327.59\n",
       "Name: vlrLiquido, dtype: float64"
      ]
     },
     "execution_count": 23,
     "metadata": {},
     "output_type": "execute_result"
    }
   ],
   "source": [
    "print(\"Os 10 candidatos que tiveram maior valor liquido em relação as cotas nos anos de 2015-2018\")\n",
    "df_2.groupby(['txNomeParlamentar'])['vlrLiquido'].sum().sort_values(ascending=False).head(10)"
   ]
  },
  {
   "cell_type": "code",
   "execution_count": 24,
   "metadata": {},
   "outputs": [
    {
     "name": "stdout",
     "output_type": "stream",
     "text": [
      "As 10 cotas que tiveram maior valor liquido em relação as cotas nos anos de 2011-2014\n"
     ]
    },
    {
     "data": {
      "text/plain": [
       "txtDescricao\n",
       "PASSAGEM AÉREA - RPA                                            1.527233e+08\n",
       "DIVULGAÇÃO DA ATIVIDADE PARLAMENTAR.                            1.462726e+08\n",
       "TELEFONIA                                                       8.204898e+07\n",
       "MANUTENÇÃO DE ESCRITÓRIO DE APOIO À ATIVIDADE PARLAMENTAR       7.084625e+07\n",
       "LOCAÇÃO DE VEÍCULOS AUTOMOTORES OU FRETAMENTO DE EMBARCAÇÕES    6.554799e+07\n",
       "CONSULTORIAS, PESQUISAS E TRABALHOS TÉCNICOS.                   6.455829e+07\n",
       "COMBUSTÍVEIS E LUBRIFICANTES.                                   6.406450e+07\n",
       "SERVIÇOS POSTAIS                                                2.123285e+07\n",
       "LOCAÇÃO OU FRETAMENTO DE VEÍCULOS AUTOMOTORES                   1.826947e+07\n",
       "PASSAGEM AÉREA - REEMBOLSO                                      1.569291e+07\n",
       "Name: vlrLiquido, dtype: float64"
      ]
     },
     "execution_count": 24,
     "metadata": {},
     "output_type": "execute_result"
    }
   ],
   "source": [
    "print(\"As 10 cotas que tiveram maior valor liquido em relação as cotas nos anos de 2011-2014\")\n",
    "df_1.groupby(['txtDescricao'])['vlrLiquido'].sum().sort_values(ascending=False).head(10)"
   ]
  },
  {
   "cell_type": "code",
   "execution_count": 25,
   "metadata": {},
   "outputs": [
    {
     "name": "stdout",
     "output_type": "stream",
     "text": [
      "As 10 cotas que tiveram maior valor liquido em relação as cotas nos anos de 2015-2018\n"
     ]
    },
    {
     "data": {
      "text/plain": [
       "txtDescricao\n",
       "DIVULGAÇÃO DA ATIVIDADE PARLAMENTAR.                         2.102360e+08\n",
       "PASSAGEM AÉREA - RPA                                         2.031599e+08\n",
       "LOCAÇÃO OU FRETAMENTO DE VEÍCULOS AUTOMOTORES                1.058582e+08\n",
       "MANUTENÇÃO DE ESCRITÓRIO DE APOIO À ATIVIDADE PARLAMENTAR    9.385328e+07\n",
       "CONSULTORIAS, PESQUISAS E TRABALHOS TÉCNICOS.                8.607327e+07\n",
       "COMBUSTÍVEIS E LUBRIFICANTES.                                7.236589e+07\n",
       "TELEFONIA                                                    4.235332e+07\n",
       "SERVIÇOS POSTAIS                                             1.445950e+07\n",
       "LOCAÇÃO OU FRETAMENTO DE AERONAVES                           1.150736e+07\n",
       "PASSAGEM AÉREA - REEMBOLSO                                   1.015588e+07\n",
       "Name: vlrLiquido, dtype: float64"
      ]
     },
     "execution_count": 25,
     "metadata": {},
     "output_type": "execute_result"
    }
   ],
   "source": [
    "print(\"As 10 cotas que tiveram maior valor liquido em relação as cotas nos anos de 2015-2018\")\n",
    "df_2.groupby(['txtDescricao'])['vlrLiquido'].sum().sort_values(ascending=False).head(10)"
   ]
  },
  {
   "cell_type": "markdown",
   "metadata": {},
   "source": [
    "##### Comentário sobre o valor líquido\n",
    "Em relação aos 10 candidatos com maior valor líquido das cotas, dois foram releitos e permaneceram nas posições altas, foram eles, Edio Lopes e Jhonatan de Jesus. Se comparado com o gráfico de quantidade de cotas, os deputados são diferentes, dessa forma, não se pode afirmar que quanto mais cotas utilizadas maior foi gasto. \n",
    "Outro ponto que foi percebido é que nas 10 cotas, a Divulgação da Atividade Parlamentar ocupava posições mais baixas em relação a quantidade usada, mas em valor líquido ocupa os primeiro lugares. Além disso, passagem área-RPA continua nas posições altas em ambas as variáveis."
   ]
  },
  {
   "cell_type": "markdown",
   "metadata": {},
   "source": [
    "### Eventos"
   ]
  },
  {
   "cell_type": "code",
   "execution_count": 26,
   "metadata": {},
   "outputs": [
    {
     "name": "stdout",
     "output_type": "stream",
     "text": [
      "Os 10 eventos que mais ocorreram nos anos de 2011-2018\n"
     ]
    },
    {
     "data": {
      "text/plain": [
       "Reunião Deliberativa                  10007\n",
       "Audiência Pública                      4849\n",
       "Sessão Deliberativa                    1611\n",
       "Outro Evento                           1219\n",
       "Seminário                               908\n",
       "Sessão Não Deliberativa de Debates      826\n",
       "Reunião de Instalação e Eleição         768\n",
       "Sessão Não Deliberativa Solene          627\n",
       "Reunião                                 365\n",
       "Mesa Redonda                            248\n",
       "Name: descricaoTipo, dtype: int64"
      ]
     },
     "execution_count": 26,
     "metadata": {},
     "output_type": "execute_result"
    }
   ],
   "source": [
    "print(\"Os 10 eventos que mais ocorreram nos anos de 2011-2018\")\n",
    "df_eventos.descricaoTipo.value_counts().head(n=10)"
   ]
  },
  {
   "cell_type": "code",
   "execution_count": 27,
   "metadata": {},
   "outputs": [
    {
     "name": "stdout",
     "output_type": "stream",
     "text": [
      "Os 10 eventos que mais ocorreram nos anos de 2011-2014\n"
     ]
    },
    {
     "data": {
      "text/plain": [
       "Reunião Deliberativa                  4635\n",
       "Audiência Pública                     2195\n",
       "Sessão Deliberativa                    730\n",
       "Outro Evento                           606\n",
       "Seminário                              375\n",
       "Reunião de Instalação e Eleição        323\n",
       "Sessão Não Deliberativa de Debates     312\n",
       "Sessão Não Deliberativa Solene         190\n",
       "Sessão de Debates                      160\n",
       "Sessão Solene                          137\n",
       "Name: descricaoTipo, dtype: int64"
      ]
     },
     "execution_count": 27,
     "metadata": {},
     "output_type": "execute_result"
    }
   ],
   "source": [
    "print(\"Os 10 eventos que mais ocorreram nos anos de 2011-2014\")\n",
    "df_eventos_1.descricaoTipo.value_counts().head(n=10)"
   ]
  },
  {
   "cell_type": "code",
   "execution_count": 28,
   "metadata": {},
   "outputs": [
    {
     "name": "stdout",
     "output_type": "stream",
     "text": [
      "Os 10 eventos que mais ocorreram nos anos de 2015-2018\n"
     ]
    },
    {
     "data": {
      "text/plain": [
       "Reunião Deliberativa                  5372\n",
       "Audiência Pública                     2654\n",
       "Sessão Deliberativa                    881\n",
       "Outro Evento                           613\n",
       "Seminário                              533\n",
       "Sessão Não Deliberativa de Debates     514\n",
       "Reunião de Instalação e Eleição        445\n",
       "Sessão Não Deliberativa Solene         437\n",
       "Reunião                                281\n",
       "Reunião Técnica                        130\n",
       "Name: descricaoTipo, dtype: int64"
      ]
     },
     "execution_count": 28,
     "metadata": {},
     "output_type": "execute_result"
    }
   ],
   "source": [
    "print(\"Os 10 eventos que mais ocorreram nos anos de 2015-2018\")\n",
    "df_eventos_2.descricaoTipo.value_counts().head(n=10)"
   ]
  },
  {
   "cell_type": "code",
   "execution_count": 29,
   "metadata": {},
   "outputs": [
    {
     "name": "stdout",
     "output_type": "stream",
     "text": [
      "média dos eventos de 2011-2014 que cada tipo de evento teve: 426.625\n",
      "média dos eventos de 2015-2018 que cada tipo de evento teve: 513.875\n"
     ]
    }
   ],
   "source": [
    "print('média dos eventos de 2011-2014 que cada tipo de evento teve:',df_eventos_1.descricaoTipo.value_counts().mean())\n",
    "print('média dos eventos de 2015-2018 que cada tipo de evento teve:',df_eventos_2.descricaoTipo.value_counts().mean())"
   ]
  },
  {
   "cell_type": "markdown",
   "metadata": {},
   "source": [
    "#### Comentário\n",
    "Uma descrição dos eventos que mais ocorreram em cada mandato e a média de quantos ocorrem por tipo de evento. Já se esperava as primeiras colocações, mas a média surpreendeu."
   ]
  },
  {
   "cell_type": "code",
   "execution_count": 30,
   "metadata": {},
   "outputs": [
    {
     "name": "stdout",
     "output_type": "stream",
     "text": [
      "Os 10 eventos que mais teve candidatos presentes de 2011-2014, independente da frequência de ocorrência de eventos\n"
     ]
    },
    {
     "data": {
      "text/plain": [
       "74041     1424\n",
       "4931      1423\n",
       "73434     1415\n",
       "160614    1397\n",
       "160649    1364\n",
       "160642    1332\n",
       "160575    1311\n",
       "74216     1292\n",
       "141450    1268\n",
       "160639    1258\n",
       "Name: idDeputado, dtype: int64"
      ]
     },
     "execution_count": 30,
     "metadata": {},
     "output_type": "execute_result"
    }
   ],
   "source": [
    "print(\"Os 10 eventos que mais teve candidatos presentes de 2011-2014, independente da frequência de ocorrência de eventos\")\n",
    "df_eventos_presentes_1.idDeputado.value_counts().head(n=10)"
   ]
  },
  {
   "cell_type": "code",
   "execution_count": 31,
   "metadata": {},
   "outputs": [
    {
     "name": "stdout",
     "output_type": "stream",
     "text": [
      "Os 10 eventos que mais teve candidatos presentes de 2015-2018, independente da frequência de ocorrência de eventos\n"
     ]
    },
    {
     "data": {
      "text/plain": [
       "178993    6377\n",
       "178871    5255\n",
       "160518    3975\n",
       "178898    2929\n",
       "178893    2918\n",
       "178998    2645\n",
       "74585     2642\n",
       "148134    2341\n",
       "178884    2060\n",
       "4931      1982\n",
       "Name: idDeputado, dtype: int64"
      ]
     },
     "execution_count": 31,
     "metadata": {},
     "output_type": "execute_result"
    }
   ],
   "source": [
    "print(\"Os 10 eventos que mais teve candidatos presentes de 2015-2018, independente da frequência de ocorrência de eventos\")\n",
    "df_eventos_presentes_2.idDeputado.value_counts().head(n=10)"
   ]
  },
  {
   "cell_type": "code",
   "execution_count": 32,
   "metadata": {},
   "outputs": [
    {
     "name": "stdout",
     "output_type": "stream",
     "text": [
      "média dos eventos de 2011-2014 que cada candidato esteve presente: 623.7164869029276\n",
      "média dos eventos de 2015-2018 que cada candidato esteve presente: 851.3632\n"
     ]
    }
   ],
   "source": [
    "print('média dos eventos de 2011-2014 que cada candidato esteve presente:',df_eventos_presentes_1.idDeputado.value_counts().mean())\n",
    "print('média dos eventos de 2015-2018 que cada candidato esteve presente:',df_eventos_presentes_2.idDeputado.value_counts().mean())"
   ]
  },
  {
   "cell_type": "markdown",
   "metadata": {},
   "source": [
    "#### Comentário sobre os eventos\n",
    "A média de cada tipo de evento aumentou no segundo mandato e a média do número de candidatos presentes também. Apesar da frequência de deputados releitos presentes nas 10 primeiras colocações de gastos nas outras tabelas e gráficos, a quantidade de deputados releitos presentes nos eventos por ano só foi um, Izalci Lucas."
   ]
  },
  {
   "cell_type": "markdown",
   "metadata": {},
   "source": [
    "## Teste de Hipótese\n",
    "H0: No último ano o gasto em valor líquido em \"DIVULGAÇÃO DA ATIVIDADE PARLAMENTAR\" é igual ao segundo ano\n",
    "\n",
    "H1:  No último ano o gasto em valor líquido em \"DIVULGAÇÃO DA ATIVIDADE PARLAMENTAR\" não é igual ao segundo ano"
   ]
  },
  {
   "cell_type": "code",
   "execution_count": 33,
   "metadata": {},
   "outputs": [],
   "source": [
    "th_01 = df_2012.loc[df_2012['numSubCota']==5]\n",
    "th_1 = th_01.groupby(['txNomeParlamentar'])['vlrLiquido'].sum()\n",
    "th_02 = df_2014.loc[df_2014['numSubCota']==5]\n",
    "th_2 = th_02.groupby(['txNomeParlamentar'])['vlrLiquido'].sum()"
   ]
  },
  {
   "cell_type": "markdown",
   "metadata": {},
   "source": [
    "Considerando que n é grande será feito o Intervalo de Confiança com a Distribuição Normal com 95 de confiança:"
   ]
  },
  {
   "cell_type": "code",
   "execution_count": 34,
   "metadata": {},
   "outputs": [],
   "source": [
    "import numpy as np\n",
    "def calcula_IC(df):\n",
    "    n=len(df)\n",
    "    x=np.mean(df)\n",
    "    p=np.std(df)/n\n",
    "    inferior = x - 1.96*p\n",
    "    superior = x + 1.96*p\n",
    "    return [ inferior, superior ]"
   ]
  },
  {
   "cell_type": "code",
   "execution_count": 35,
   "metadata": {},
   "outputs": [
    {
     "name": "stdout",
     "output_type": "stream",
     "text": [
      "IC(95%) 2012:  [59880.59389255508, 60265.21584587549]\n",
      "IC(95%) 2014:  [93466.8181048173, 94009.76075792775]\n"
     ]
    }
   ],
   "source": [
    "print(\"IC(95%) 2012: \",calcula_IC(th_1))\n",
    "print(\"IC(95%) 2014: \",calcula_IC(th_2))"
   ]
  },
  {
   "cell_type": "code",
   "execution_count": 36,
   "metadata": {},
   "outputs": [
    {
     "name": "stdout",
     "output_type": "stream",
     "text": [
      "IC(95%) 2016:  [96096.6704490011, 96634.29695557902]\n",
      "IC(95%) 2018:  [99829.438593489, 100382.64890651108]\n"
     ]
    }
   ],
   "source": [
    "th_03 = df_2016.loc[df_2016['numSubCota']==5]\n",
    "th_3 = th_03.groupby(['txNomeParlamentar'])['vlrLiquido'].sum()\n",
    "th_04 = df_2018.loc[df_2018['numSubCota']==5]\n",
    "th_4 = th_04.groupby(['txNomeParlamentar'])['vlrLiquido'].sum()\n",
    "print(\"IC(95%) 2016: \", calcula_IC(th_3))\n",
    "print(\"IC(95%) 2018: \",calcula_IC(th_4))"
   ]
  },
  {
   "cell_type": "markdown",
   "metadata": {},
   "source": [
    "Considerando que o intervalo contem 95% de probabildiade de o valor estar presente, percebe que nesses dois intervalos de confiança não existe uma interceção entre os valores, ou seja, os valores de último ano de mandato(ano de eleição) tem mais chance de ser maiores do que no meio do mandadato. Se comparado com o mandato de 2011-2014 a diferença entre os anos é bem maior que do mandato de 2015-2018."
   ]
  },
  {
   "cell_type": "markdown",
   "metadata": {},
   "source": [
    "## Conclusão"
   ]
  },
  {
   "cell_type": "markdown",
   "metadata": {},
   "source": [
    "O uso de diversas bases foi muito interesse para conseguir complementar as nossas dúvidas, por exemplo, algumas descrições apareciam apenas em um dos data frames. Além disso, comparar dois mandatos foi muito interessante, e o fato dos deputados poderem ser releitos sucessivas vezes evitou interpretações equivocadas.\n",
    "\n",
    "Infelizmente, não foi possível realizar todas as ideias planejadas, mas por isso, foi descoberto várias curiosidades sobre os deputados federais, eventos e a quantidade de dados sobre o assunto. \n",
    "\n",
    "Em relação as perguntas:\n",
    " 1. Foi feito vários ranking dos 10 primeiros deputados que mais utilizam cota, tem maiores valores liquidos totais em relação a cota e que estão presente em mais eventos. A conclusão foi que a quantidade de candidatos releitos nos primeiros lugares foi menor nos presentes em eventos do que no uso de cotas em geral. \n",
    " 2. O uso da cota \"DIVULGAÇÃO DA ATIVIDADE PARLAMENTAR\" teve valores mais altos no ano de eleição do que no meio do ano, entretanto, o ano de 2017 teve um destaque, acredita-se que como 2016 teve o Impeachment de Dilma Rousseff isso pode ter interferido nos resultados.\n",
    " 3. Foi feito uma regressão linear para a quantidade de cotas e valor líquido de cada candidato,mas não teve uma relação. Dessa forma, não podemos afirmar uma proporção positiva nem negativa.\n",
    " 4. Os deputados de um mandado(2011-2014) e deputados do outro mandato(2015-2018) tiveram comportamentos similiares em várias situações, em algumas os valores do segundo mandato foram maiores.\n",
    " 5. Uma das nossas motivações para o trabalho, que foi a informação do site: \"serenata.ai\" abordando que apenas com essa cota, os reembolsos dos 513 deputados federais em um ano significa o custo de 128 milhões, motivou a curiosidade para saber quantos candidatos seriam releitos afim dos comportamentos poderem ser modificados por pessoas diferentes, mas houve 569 deputados releitos."
   ]
  }
 ],
 "metadata": {
  "kernelspec": {
   "display_name": "Python 3 (ipykernel)",
   "language": "python",
   "name": "python3"
  },
  "language_info": {
   "codemirror_mode": {
    "name": "ipython",
    "version": 3
   },
   "file_extension": ".py",
   "mimetype": "text/x-python",
   "name": "python",
   "nbconvert_exporter": "python",
   "pygments_lexer": "ipython3",
   "version": "3.9.12"
  }
 },
 "nbformat": 4,
 "nbformat_minor": 4
}
